{
 "cells": [
  {
   "cell_type": "markdown",
   "metadata": {},
   "source": [
    "# 🤗 LLM Evaluation\n",
    "\n",
    "## 1. 📖 대표적인 Datasets\n",
    "- Hellaswag: **지시사항에 이어질** 알맞은 문장 생성 능력을 평가하는 데이터셋\n",
    "- Copa: **원인/결과**에 알맞은 문장 생성 능력을 평가하는 데이터셋\n",
    "- Boolq: 질문에 대한 **예/아니요** 답변 능력 평가을 평가하는 데이터셋\n",
    "- Sentineg: 문장에 대한 **긍/부정** 평가 능력을 평가하는 데이터셋\n",
    "\n",
    "  \n",
    "## 2. Metric\n",
    "- Accuracy\n",
    "- F1-score (대표적으로 활용)\n",
    "\n",
    "\n",
    "## 3. N-shot Evaluation\n",
    "- 💎 Zero-shot: 훈련 과정에서 배우지 않은 작업을 수행하는 것을 의미\n",
    "- 💎 Few-shot: 소수의 데이터셋을 학습한 후 작업을 수행하는 것을 의미\n",
    "  \n",
    "\n",
    "## 4. 👨‍💻 Code Implementation\n",
    "\n",
    "- ✅ 영어 평가 코드\n",
    "```Python\n",
    "!lm_eval --model hf \\\n",
    "    --model_args pretrained=[...Custom_LLM...],parallelize=True \\\n",
    "    --tasks [...Datasets...] \\\n",
    "    --device cuda:0 \\\n",
    "    --batch_size 8 \\\n",
    "    --num_fewshot [...N-shot...]\n",
    "```\n",
    "\n",
    "- ✅ 한국어 평가 코드\n",
    "```python\n",
    "!python main.py \\\n",
    "    --model gpt2 \\\n",
    "    --model_args pretrained = [...Custom_LLM...],parallelize=True \\\n",
    "    --tasks [...Datasets...] \\\n",
    "    --device cuda:0 \\\n",
    "    --num_fewshot [...N-shot...]\n",
    "```\n",
    "\n",
    "### Options\n",
    "\n",
    "- `parallelize`: 다중 GPU를 사용할 경우 `True`\n",
    "- Custom_LLM: `huggingface repo` 이름\n",
    "- Datasets\n",
    "  - 영어: `hellaswag`, `copa`, `boolq`, `sentineg`  \n",
    "  - 한국어: `kobest_hellaswag`, `kobest_copa`, `kobest_boolq`, `kobest_sentineg`\n",
    "- N-shot: `0`(zero-shot), `5`, `10`, ...\n",
    "------"
   ]
  },
  {
   "cell_type": "markdown",
   "metadata": {},
   "source": [
    "# (1) ENGLISH"
   ]
  },
  {
   "cell_type": "code",
   "execution_count": null,
   "metadata": {
    "id": "BVpmAP4VLJOW"
   },
   "outputs": [],
   "source": [
    "# 모듈 다운로드 (영어 모델 평가)\n",
    "\n",
    "!git clone https://github.com/EleutherAI/lm-evaluation-harness\n",
    "%cd ./lm-evaluation-harness\n",
    "!pip install -e .\n",
    "!pip install evaluate"
   ]
  },
  {
   "cell_type": "code",
   "execution_count": null,
   "metadata": {
    "id": "8ZUJEdSxfvVW"
   },
   "outputs": [],
   "source": [
    "# task 종류 확인 (영어)\n",
    "\n",
    "!lm-eval --tasks list"
   ]
  },
  {
   "cell_type": "code",
   "execution_count": null,
   "metadata": {},
   "outputs": [],
   "source": [
    "# Zero-shot 평가 (영어)\n",
    "## About hellaswag, copa, boolq, truthfulqa, mmlu\n",
    "\n",
    "!lm_eval --model hf \\\n",
    "    --model_args pretrained='oneonlee/KoSOLAR-v0.2-gugutypus-10.7B',parallelize=True \\\n",
    "    --tasks hellaswag,copa,boolq,truthfulqa,mmlu \\\n",
    "    --device cuda \\\n",
    "    --batch_size auto \\\n",
    "    --num_fewshot 0"
   ]
  },
  {
   "cell_type": "code",
   "execution_count": null,
   "metadata": {
    "id": "iBc0APZNfqvB"
   },
   "outputs": [],
   "source": [
    "# 5-shot 평가 (영어)\n",
    "## About hellaswag, copa, boolq, mmlu\n",
    "\n",
    "!lm_eval --model hf \\\n",
    "    --model_args pretrained='oneonlee/KoSOLAR-v0.2-gugutypus-10.7B',parallelize=True \\\n",
    "    --tasks hellaswag,copa,boolq,mmlu \\\n",
    "    --device cuda \\\n",
    "    --batch_size auto \\\n",
    "    --num_fewshot 5"
   ]
  },
  {
   "cell_type": "markdown",
   "metadata": {},
   "source": [
    "# (2) KOREAN"
   ]
  },
  {
   "cell_type": "code",
   "execution_count": null,
   "metadata": {},
   "outputs": [],
   "source": [
    "# Zero-shot 평가 (한국어)\n",
    "## About kmmlu\n",
    "\n",
    "!lm_eval --model hf \\\n",
    "    --model_args pretrained='oneonlee/KoSOLAR-v0.2-gugutypus-10.7B',parallelize=True \\\n",
    "    --tasks kmmlu \\\n",
    "    --device cuda \\\n",
    "    --batch_size auto \\\n",
    "    --num_fewshot 0"
   ]
  },
  {
   "cell_type": "code",
   "execution_count": null,
   "metadata": {},
   "outputs": [],
   "source": [
    "# 5-shot 평가 (한국어)\n",
    "## About \bkmmlu\n",
    "\n",
    "!lm_eval --model hf \\\n",
    "    --model_args pretrained='oneonlee/KoSOLAR-v0.2-gugutypus-10.7B',parallelize=True \\\n",
    "    --tasks kmmlu \\\n",
    "    --device cuda \\\n",
    "    --batch_size auto \\\n",
    "    --num_fewshot 5"
   ]
  },
  {
   "cell_type": "code",
   "execution_count": null,
   "metadata": {},
   "outputs": [],
   "source": [
    "# 모듈 다운로드 (한국어 모델 평가)\n",
    "\n",
    "!git clone https://github.com/Beomi/ko-lm-evaluation-harness\n",
    "%cd ./ko-lm-evaluation-harness\n",
    "!pip install -e .\n",
    "!pip install evaluate"
   ]
  },
  {
   "cell_type": "code",
   "execution_count": null,
   "metadata": {
    "id": "W1vPn1Cb99y5"
   },
   "outputs": [],
   "source": [
    "# Zero-shot 평가 (한국어)\n",
    "## About hellaswag, copa, boolq, sentineg\n",
    "\n",
    "!python main.py \\\n",
    "    --model gpt2 \\\n",
    "    --model_args pretrained='oneonlee/KoSOLAR-v0.2-gugutypus-10.7B' \\\n",
    "    --tasks kobest_hellaswag,kobest_copa,kobest_boolq,kobest_sentineg \\\n",
    "    --device cuda:0 \\\n",
    "    --batch_size auto \\\n",
    "    --num_fewshot 0"
   ]
  },
  {
   "cell_type": "code",
   "execution_count": null,
   "metadata": {},
   "outputs": [],
   "source": [
    "# 5-shot 평가 (한국어)\n",
    "## About hellaswag, copa, boolq, sentineg\n",
    "\n",
    "!python main.py \\\n",
    "    --model gpt2 \\\n",
    "    --model_args pretrained='oneonlee/LDCC-SOLAR-gugutypus-10.7B' \\\n",
    "    --tasks kobest_hellaswag,kobest_copa,kobest_boolq,kobest_sentineg \\\n",
    "    --device cuda:0 \\\n",
    "    --batch_size auto \\\n",
    "    --num_fewshot 5"
   ]
  }
 ],
 "metadata": {
  "accelerator": "GPU",
  "colab": {
   "gpuType": "A100",
   "machine_shape": "hm",
   "provenance": [
    {
     "file_id": "1-g790kFN7RyS1beboLrl7b3SCJ1L8ZaD",
     "timestamp": 1700938670197
    },
    {
     "file_id": "1HOCteGprplUQdHBuPrVVeZQEdpShmaWc",
     "timestamp": 1700927132151
    },
    {
     "file_id": "10orl9Z8B99Qta3Yug5s9quFs49vULdzn",
     "timestamp": 1692533780025
    },
    {
     "file_id": "1CfhOlMsUaPCfNwMy-bad4uKIMyrhZ6lu",
     "timestamp": 1692127809299
    },
    {
     "file_id": "183I6BovpuGabKouUyThhu77NjxcWIYPO",
     "timestamp": 1692117771433
    },
    {
     "file_id": "1U7ON76oXw6Glz2BflnshuaOEuJF1A2z9",
     "timestamp": 1692024495933
    },
    {
     "file_id": "1_TEJopoN7a4jeDOQZ0Dse4fIEXUFtYRC",
     "timestamp": 1691999868384
    },
    {
     "file_id": "19Tjtwdd2bz0twOoWaxxyAcOVySM_Kj6O",
     "timestamp": 1690992147659
    },
    {
     "file_id": "1be0mX8QQ77vczL5PW-15Acu_OxZCF7o4",
     "timestamp": 1690985822915
    },
    {
     "file_id": "1bxI8SEJBOK2cfa_sLi6mKOrbRuDNPM2e",
     "timestamp": 1690114955968
    }
   ]
  },
  "kernelspec": {
   "display_name": "Python 3 (ipykernel)",
   "language": "python",
   "name": "python3"
  },
  "language_info": {
   "codemirror_mode": {
    "name": "ipython",
    "version": 3
   },
   "file_extension": ".py",
   "mimetype": "text/x-python",
   "name": "python",
   "nbconvert_exporter": "python",
   "pygments_lexer": "ipython3",
   "version": "3.9.18"
  },
  "varInspector": {
   "cols": {
    "lenName": 16,
    "lenType": 16,
    "lenVar": 40
   },
   "kernels_config": {
    "python": {
     "delete_cmd_postfix": "",
     "delete_cmd_prefix": "del ",
     "library": "var_list.py",
     "varRefreshCmd": "print(var_dic_list())"
    },
    "r": {
     "delete_cmd_postfix": ") ",
     "delete_cmd_prefix": "rm(",
     "library": "var_list.r",
     "varRefreshCmd": "cat(var_dic_list()) "
    }
   },
   "types_to_exclude": [
    "module",
    "function",
    "builtin_function_or_method",
    "instance",
    "_Feature"
   ],
   "window_display": false
  }
 },
 "nbformat": 4,
 "nbformat_minor": 4
}
